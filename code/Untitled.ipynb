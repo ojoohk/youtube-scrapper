{
 "cells": [
  {
   "cell_type": "code",
   "execution_count": null,
   "id": "69e1248c",
   "metadata": {},
   "outputs": [],
   "source": [
    "from selenium import webdriver\n",
    "from bs4 import BeautifulSoup\n",
    "from selenium.webdriver.common.keys import Keys\n",
    "from selenium.webdriver.common.by import By\n",
    "import time\n",
    "import pandas as pd\n",
    "from tqdm import notebook\n",
    "\n",
    "# 윈도우 버전\n",
    "# chromedriver = \"C:/Users/201824893/Desktop/코딩/Python/잔재미코딩_셀레니움스크래피 강의/chromedriver.exe\"\n",
    "\n",
    "# 맥버전\n",
    "chromedriver = \"/Users/ojoohk/Desktop/python/chromedriver\"\n",
    "\n",
    "\n",
    "def driver_open(chromedriver):\n",
    "    options = webdriver.ChromeOptions()\n",
    "    options.add_argument(\"window-size=1920x1080\")\n",
    "    options.add_argument(\"headless\")\n",
    "    options.add_argument(\"lang=ko_KR\")\n",
    "    driver = webdriver.Chrome(chromedriver, options=options)\n",
    "    return driver"
   ]
  },
  {
   "cell_type": "code",
   "execution_count": null,
   "id": "3182d617",
   "metadata": {},
   "outputs": [],
   "source": []
  },
  {
   "cell_type": "code",
   "execution_count": null,
   "id": "8a961a11",
   "metadata": {},
   "outputs": [],
   "source": []
  }
 ],
 "metadata": {
  "kernelspec": {
   "display_name": "Python 3 (ipykernel)",
   "language": "python",
   "name": "python3"
  },
  "language_info": {
   "codemirror_mode": {
    "name": "ipython",
    "version": 3
   },
   "file_extension": ".py",
   "mimetype": "text/x-python",
   "name": "python",
   "nbconvert_exporter": "python",
   "pygments_lexer": "ipython3",
   "version": "3.9.12"
  }
 },
 "nbformat": 4,
 "nbformat_minor": 5
}
